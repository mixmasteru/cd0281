{
 "cells": [
  {
   "cell_type": "markdown",
   "metadata": {},
   "source": [
    "# Neural networks with PyTorch\n",
    "\n",
    "Deep learning networks tend to be massive with dozens or hundreds of layers, that's where the term \"deep\" comes from. You can build one of these deep networks using only weight matrices as we did in the previous notebook, but in general it's very cumbersome and difficult to implement. PyTorch has a nice module `nn` that provides a nice way to efficiently build large neural networks."
   ]
  },
  {
   "cell_type": "code",
   "execution_count": 1,
   "metadata": {},
   "outputs": [],
   "source": [
    "# Import necessary packages\n",
    "\n",
    "%matplotlib inline\n",
    "%config InlineBackend.figure_format = 'retina'\n",
    "\n",
    "import numpy as np\n",
    "import torch\n",
    "\n",
    "import helper\n",
    "\n",
    "import matplotlib.pyplot as plt"
   ]
  },
  {
   "cell_type": "markdown",
   "metadata": {},
   "source": [
    "\n",
    "Now we're going to build a larger network that can solve a (formerly) difficult problem, identifying text in an image. Here we'll use the MNIST dataset which consists of greyscale handwritten digits. Each image is 28x28 pixels, you can see a sample below\n",
    "\n",
    "<img src='assets/mnist.png'>\n",
    "\n",
    "Our goal is to build a neural network that can take one of these images and predict the digit in the image.\n",
    "\n",
    "First up, we need to get our dataset. This is provided through the `torchvision` package. The code below will download the MNIST dataset, then create training and test datasets for us. Don't worry too much about the details here, you'll learn more about this later."
   ]
  },
  {
   "cell_type": "code",
   "execution_count": 2,
   "metadata": {},
   "outputs": [],
   "source": [
    "# The MNIST datasets are hosted on yann.lecun.com that has moved under CloudFlare protection\n",
    "# Run this script to enable the datasets download\n",
    "# Reference: https://github.com/pytorch/vision/issues/1938\n",
    "\n",
    "from six.moves import urllib\n",
    "opener = urllib.request.build_opener()\n",
    "opener.addheaders = [('User-agent', 'Mozilla/5.0')]\n",
    "urllib.request.install_opener(opener)"
   ]
  },
  {
   "cell_type": "code",
   "execution_count": 3,
   "metadata": {},
   "outputs": [],
   "source": [
    "### Run this cell\n",
    "\n",
    "from torchvision import datasets, transforms\n",
    "\n",
    "# Define a transform to normalize the data\n",
    "transform = transforms.Compose([transforms.ToTensor(),\n",
    "                              transforms.Normalize((0.5,), (0.5,)),\n",
    "                              ])\n",
    "\n",
    "# Download and load the training data\n",
    "trainset = datasets.MNIST('~/.pytorch/MNIST_data/', download=True, train=True, transform=transform)\n",
    "trainloader = torch.utils.data.DataLoader(trainset, batch_size=64, shuffle=True)"
   ]
  },
  {
   "cell_type": "markdown",
   "metadata": {},
   "source": [
    "We have the training data loaded into `trainloader` and we make that an iterator with `iter(trainloader)`. Later, we'll use this to loop through the dataset for training, like\n",
    "\n",
    "```python\n",
    "for image, label in trainloader:\n",
    "    ## do things with images and labels\n",
    "```\n",
    "\n",
    "You'll notice I created the `trainloader` with a batch size of 64, and `shuffle=True`. The batch size is the number of images we get in one iteration from the data loader and pass through our network, often called a *batch*. And `shuffle=True` tells it to shuffle the dataset every time we start going through the data loader again. But here I'm just grabbing the first batch so we can check out the data. We can see below that `images` is just a tensor with size `(64, 1, 28, 28)`. So, 64 images per batch, 1 color channel, and 28x28 images."
   ]
  },
  {
   "cell_type": "code",
   "execution_count": 4,
   "metadata": {},
   "outputs": [
    {
     "name": "stdout",
     "output_type": "stream",
     "text": [
      "<class 'torch.Tensor'>\n",
      "torch.Size([64, 1, 28, 28])\n",
      "torch.Size([64])\n"
     ]
    }
   ],
   "source": [
    "dataiter = iter(trainloader)\n",
    "#images, labels = dataiter.next()\n",
    "images, labels = next(dataiter)\n",
    "print(type(images))\n",
    "data = next(dataiter)\n",
    "print(images.shape)\n",
    "print(labels.shape)"
   ]
  },
  {
   "cell_type": "markdown",
   "metadata": {},
   "source": [
    "This is what one of the images looks like. "
   ]
  },
  {
   "cell_type": "code",
   "execution_count": 5,
   "metadata": {},
   "outputs": [
    {
     "data": {
      "image/png": "[encoded data removed]",
      "text/plain": [
       "<Figure size 640x480 with 1 Axes>"
      ]
     },
     "metadata": {
      "image/png": {
       "height": 413,
       "width": 417
      }
     },
     "output_type": "display_data"
    }
   ],
   "source": [
    "plt.imshow(images[1].numpy().squeeze(), cmap='Greys_r');"
   ]
  },
  {
   "cell_type": "markdown",
   "metadata": {},
   "source": [
    "First, let's try to build a simple network for this dataset using weight matrices and matrix multiplications. Then, we'll see how to do it using PyTorch's `nn` module which provides a much more convenient and powerful method for defining network architectures.\n",
    "\n",
    "The networks you've seen so far are called *fully-connected* or *dense* networks. Each unit in one layer is connected to each unit in the next layer. In fully-connected networks, the input to each layer must be a one-dimensional vector (which can be stacked into a 2D tensor as a batch of multiple examples). However, our images are 28x28 2D tensors, so we need to convert them into 1D vectors. Thinking about sizes, we need to convert the batch of images with shape `(64, 1, 28, 28)` to a have a shape of `(64, 784)`, 784 is 28 times 28. This is typically called *flattening*, we flattened the 2D images into 1D vectors.\n",
    "\n",
    "Previously you built a network with one output unit. Here we need 10 output units, one for each digit. We want our network to predict the digit shown in an image, so what we'll do is calculate probabilities that the image is of any one digit or class. This ends up being a discrete probability distribution over the classes (digits) that tells us the most likely class for the image. That means we need 10 output units for the 10 classes (digits). We'll see how to convert the network output into a probability distribution next.\n",
    "\n",
    "> **Exercise:** Flatten the batch of images `images`. Then build a multi-layer network with 784 input units, 256 hidden units, and 10 output units using random tensors for the weights and biases. For now, use a sigmoid activation for the hidden layer. Leave the output layer without an activation, we'll add one that gives us a probability distribution next."
   ]
  },
  {
   "cell_type": "code",
   "execution_count": 6,
   "metadata": {},
   "outputs": [
    {
     "name": "stdout",
     "output_type": "stream",
     "text": [
      "tensor([[1.6096e-02, 1.0000e+00, 7.6543e-09, 7.5153e-01, 9.9602e-01, 9.9825e-01,\n",
      "         1.0000e+00, 9.9937e-01, 6.9174e-07, 7.8464e-12],\n",
      "        [1.6662e-03, 1.0000e+00, 9.3071e-08, 1.0000e+00, 2.6506e-01, 9.9407e-02,\n",
      "         1.0000e+00, 9.9905e-01, 2.7941e-06, 6.0306e-13],\n",
      "        [9.9825e-01, 1.0000e+00, 4.6858e-06, 9.9995e-01, 9.9995e-01, 9.9942e-01,\n",
      "         1.0000e+00, 9.9429e-01, 3.8570e-05, 1.4163e-13],\n",
      "        [6.1088e-01, 1.0000e+00, 7.4079e-05, 9.9211e-01, 7.8848e-01, 9.9998e-01,\n",
      "         1.0000e+00, 1.0000e+00, 2.4618e-05, 4.7869e-11],\n",
      "        [3.0803e-02, 1.0000e+00, 3.2448e-08, 9.9999e-01, 5.2887e-03, 7.5440e-02,\n",
      "         1.0000e+00, 9.9812e-01, 8.9437e-05, 2.0928e-08],\n",
      "        [4.1189e-01, 1.0000e+00, 1.1336e-08, 9.9984e-01, 7.2667e-03, 3.6106e-01,\n",
      "         1.0000e+00, 9.9684e-01, 1.9981e-06, 2.3583e-11],\n",
      "        [4.4391e-01, 1.0000e+00, 2.4245e-08, 9.9998e-01, 2.7987e-01, 9.9995e-01,\n",
      "         1.0000e+00, 9.9998e-01, 3.1701e-06, 1.1842e-10],\n",
      "        [9.5500e-01, 1.0000e+00, 1.1329e-07, 6.5246e-01, 9.9998e-01, 9.0929e-01,\n",
      "         1.0000e+00, 9.9875e-01, 2.2515e-06, 8.3238e-15],\n",
      "        [4.5291e-02, 1.0000e+00, 1.3079e-08, 9.6338e-01, 7.9632e-01, 9.8995e-01,\n",
      "         1.0000e+00, 9.9981e-01, 1.1908e-05, 2.5642e-14],\n",
      "        [7.3682e-01, 1.0000e+00, 2.6555e-07, 8.9876e-01, 9.5211e-01, 8.7954e-01,\n",
      "         1.0000e+00, 1.0000e+00, 3.8720e-05, 3.9147e-11],\n",
      "        [4.5051e-04, 9.9999e-01, 1.3943e-05, 9.9988e-01, 9.8619e-01, 9.9996e-01,\n",
      "         9.9979e-01, 9.9990e-01, 1.5763e-07, 4.4044e-12],\n",
      "        [1.7988e-01, 1.0000e+00, 5.9303e-10, 9.9990e-01, 9.9837e-01, 9.6338e-01,\n",
      "         1.0000e+00, 9.9951e-01, 1.6545e-05, 1.5116e-11],\n",
      "        [4.4789e-01, 1.0000e+00, 6.0793e-09, 9.9993e-01, 9.9409e-01, 3.4658e-04,\n",
      "         1.0000e+00, 9.8589e-01, 1.7667e-06, 1.3075e-12],\n",
      "        [4.4065e-01, 1.0000e+00, 5.2828e-06, 9.2516e-01, 9.4480e-01, 9.9976e-01,\n",
      "         9.9998e-01, 9.9723e-01, 1.5442e-06, 2.5323e-08],\n",
      "        [2.2638e-01, 1.0000e+00, 2.6821e-06, 9.9718e-01, 1.8131e-03, 9.9965e-01,\n",
      "         1.0000e+00, 9.9044e-01, 2.3368e-02, 6.0762e-12],\n",
      "        [1.0832e-01, 1.0000e+00, 5.2602e-02, 9.9998e-01, 4.7883e-01, 9.9886e-01,\n",
      "         1.0000e+00, 1.0000e+00, 1.7502e-06, 2.3718e-09],\n",
      "        [1.3587e-02, 1.0000e+00, 1.6372e-08, 9.1737e-01, 5.5130e-01, 8.6795e-01,\n",
      "         1.0000e+00, 9.9999e-01, 1.4245e-04, 8.9685e-11],\n",
      "        [1.6260e-01, 1.0000e+00, 1.3490e-05, 9.9999e-01, 9.9890e-01, 2.7027e-01,\n",
      "         1.0000e+00, 9.9986e-01, 7.4303e-06, 1.8830e-12],\n",
      "        [9.9947e-01, 1.0000e+00, 2.2049e-09, 9.8016e-01, 9.7704e-01, 7.4391e-06,\n",
      "         9.9999e-01, 9.9996e-01, 1.0271e-03, 3.8427e-10],\n",
      "        [8.2008e-02, 1.0000e+00, 4.8398e-08, 9.9999e-01, 3.1232e-01, 6.5775e-01,\n",
      "         1.0000e+00, 8.1572e-01, 8.7785e-08, 1.1243e-15],\n",
      "        [9.8579e-01, 1.0000e+00, 3.2483e-09, 9.9999e-01, 9.9461e-01, 9.9977e-01,\n",
      "         9.7871e-01, 9.9913e-01, 2.5467e-09, 8.5414e-11],\n",
      "        [5.1467e-01, 9.9965e-01, 5.1495e-04, 1.6620e-02, 7.1460e-01, 6.8993e-01,\n",
      "         1.0000e+00, 9.7208e-01, 1.2542e-05, 2.5268e-12],\n",
      "        [4.4686e-02, 1.0000e+00, 9.8979e-09, 9.9673e-01, 3.1939e-01, 7.9495e-01,\n",
      "         1.0000e+00, 1.8407e-01, 6.4211e-06, 3.3659e-08],\n",
      "        [4.9589e-03, 1.0000e+00, 1.7803e-06, 9.9982e-01, 1.2142e-02, 9.9937e-01,\n",
      "         1.0000e+00, 9.9986e-01, 8.7801e-05, 1.2940e-08],\n",
      "        [1.3154e-01, 1.0000e+00, 2.7258e-08, 9.9996e-01, 9.0821e-01, 7.8634e-01,\n",
      "         1.0000e+00, 1.0000e+00, 5.1136e-02, 2.5814e-10],\n",
      "        [9.3031e-01, 1.0000e+00, 9.6399e-05, 9.9303e-01, 9.9782e-01, 9.9963e-01,\n",
      "         1.0000e+00, 6.4043e-01, 4.1148e-07, 2.8190e-14],\n",
      "        [3.2297e-01, 1.0000e+00, 1.5747e-08, 9.9996e-01, 9.8421e-01, 8.2927e-01,\n",
      "         9.9902e-01, 9.9919e-01, 1.5154e-05, 1.3352e-13],\n",
      "        [9.3281e-01, 1.0000e+00, 2.2345e-06, 9.9995e-01, 1.8640e-01, 9.8908e-01,\n",
      "         1.0000e+00, 9.3696e-01, 5.0146e-02, 1.5044e-14],\n",
      "        [1.8547e-01, 1.0000e+00, 1.1170e-07, 9.6921e-01, 1.0000e+00, 3.6049e-04,\n",
      "         1.0000e+00, 9.9992e-01, 3.9964e-07, 4.1193e-13],\n",
      "        [1.4029e-01, 1.0000e+00, 5.5588e-05, 9.9999e-01, 9.9700e-01, 9.2217e-01,\n",
      "         1.0000e+00, 9.9976e-01, 2.2548e-04, 6.9343e-12],\n",
      "        [6.5684e-02, 1.0000e+00, 3.2419e-06, 9.9999e-01, 1.1177e-04, 1.3924e-01,\n",
      "         1.0000e+00, 9.9981e-01, 8.2875e-07, 1.5311e-12],\n",
      "        [9.3949e-03, 9.3751e-01, 5.2348e-11, 8.1912e-02, 2.5163e-01, 9.7792e-01,\n",
      "         1.0000e+00, 9.9981e-01, 6.0030e-07, 1.3027e-10],\n",
      "        [9.5143e-01, 1.0000e+00, 4.9318e-04, 9.9968e-01, 9.9898e-01, 9.8779e-01,\n",
      "         1.0000e+00, 9.9956e-01, 2.4033e-07, 1.3442e-10],\n",
      "        [9.9299e-01, 1.0000e+00, 2.7512e-06, 9.9978e-01, 4.3974e-02, 9.9919e-01,\n",
      "         1.0000e+00, 1.0000e+00, 1.5298e-02, 6.5260e-13],\n",
      "        [9.9241e-01, 9.9998e-01, 5.9671e-09, 2.5388e-01, 7.7566e-01, 6.4062e-04,\n",
      "         1.0000e+00, 9.0846e-02, 3.8853e-06, 1.1386e-08],\n",
      "        [2.1474e-01, 1.0000e+00, 2.1694e-06, 9.9814e-01, 9.3300e-01, 9.9936e-01,\n",
      "         1.0000e+00, 1.0000e+00, 2.5385e-08, 4.0495e-14],\n",
      "        [3.5700e-03, 9.9999e-01, 8.8084e-08, 9.9639e-01, 2.3250e-02, 2.4751e-03,\n",
      "         1.0000e+00, 9.8635e-01, 5.2700e-01, 1.5122e-10],\n",
      "        [9.0582e-01, 1.0000e+00, 9.1024e-09, 4.2719e-02, 1.0000e+00, 6.5498e-02,\n",
      "         1.0000e+00, 9.9888e-01, 5.0554e-08, 4.0299e-09],\n",
      "        [6.9372e-02, 1.0000e+00, 2.5129e-05, 9.9931e-01, 3.5560e-01, 9.9558e-01,\n",
      "         1.0000e+00, 1.0000e+00, 1.4723e-06, 1.5216e-11],\n",
      "        [4.4624e-01, 1.0000e+00, 3.3511e-09, 9.9553e-01, 5.5600e-03, 7.1327e-01,\n",
      "         9.9995e-01, 9.9990e-01, 2.9631e-08, 2.0197e-12],\n",
      "        [1.6832e-03, 1.0000e+00, 1.0861e-08, 9.9996e-01, 9.9983e-01, 9.9965e-01,\n",
      "         1.0000e+00, 9.9998e-01, 2.5346e-06, 1.8132e-10],\n",
      "        [9.9987e-01, 1.0000e+00, 7.5145e-06, 9.3139e-01, 1.0000e+00, 8.6000e-01,\n",
      "         9.9999e-01, 9.9797e-01, 1.5494e-05, 2.7991e-08],\n",
      "        [1.0048e-03, 9.9999e-01, 2.8129e-10, 7.9666e-01, 9.6237e-01, 5.1995e-01,\n",
      "         9.9999e-01, 9.8405e-01, 2.2277e-08, 2.8772e-11],\n",
      "        [2.1933e-03, 9.9747e-01, 7.5527e-08, 3.2397e-01, 9.9849e-01, 9.9923e-01,\n",
      "         1.0000e+00, 9.9983e-01, 4.5808e-08, 5.6054e-12],\n",
      "        [1.7624e-03, 1.0000e+00, 1.0486e-05, 9.8448e-01, 8.1273e-02, 9.9621e-01,\n",
      "         1.0000e+00, 9.7683e-01, 3.2347e-06, 2.2692e-13],\n",
      "        [4.4277e-01, 1.0000e+00, 5.1651e-02, 1.9905e-01, 9.6437e-01, 9.9227e-01,\n",
      "         1.0000e+00, 1.0000e+00, 1.8126e-03, 8.7393e-10],\n",
      "        [6.3061e-03, 1.0000e+00, 6.9138e-06, 9.9962e-01, 9.9988e-01, 9.9576e-01,\n",
      "         1.0000e+00, 1.0000e+00, 1.8029e-06, 8.4667e-11],\n",
      "        [1.7090e-01, 1.0000e+00, 4.3664e-03, 9.9946e-01, 9.9360e-01, 8.6104e-01,\n",
      "         1.0000e+00, 1.0000e+00, 1.1592e-07, 1.2240e-12],\n",
      "        [2.5078e-03, 1.0000e+00, 1.8799e-08, 9.9972e-01, 9.9965e-01, 1.4365e-01,\n",
      "         1.0000e+00, 1.0000e+00, 5.4243e-11, 5.1668e-13],\n",
      "        [5.8979e-01, 1.0000e+00, 1.1217e-09, 9.9804e-01, 2.6853e-01, 9.9998e-01,\n",
      "         1.0000e+00, 9.9528e-01, 4.9031e-05, 5.3896e-09],\n",
      "        [9.8495e-01, 1.0000e+00, 1.8227e-07, 9.9445e-01, 9.9270e-01, 9.9980e-01,\n",
      "         1.0000e+00, 1.0000e+00, 1.5286e-03, 1.2967e-10],\n",
      "        [3.9595e-02, 1.0000e+00, 3.2434e-11, 9.9988e-01, 9.9860e-01, 5.1090e-01,\n",
      "         1.0000e+00, 9.9999e-01, 2.2508e-05, 1.7630e-13],\n",
      "        [9.8093e-01, 1.0000e+00, 2.5743e-05, 7.0395e-01, 9.9970e-01, 1.7227e-02,\n",
      "         1.0000e+00, 9.9998e-01, 2.0048e-06, 9.1391e-11],\n",
      "        [1.4408e-01, 1.0000e+00, 1.4950e-05, 9.9988e-01, 9.9998e-01, 8.3903e-01,\n",
      "         1.0000e+00, 8.6180e-01, 5.8185e-04, 6.3962e-13],\n",
      "        [9.9978e-01, 9.9995e-01, 2.4751e-10, 9.4998e-01, 9.0573e-01, 2.4183e-03,\n",
      "         1.0000e+00, 9.2033e-01, 4.0360e-05, 6.9328e-09],\n",
      "        [5.9741e-01, 1.0000e+00, 1.0432e-06, 3.8503e-01, 4.9126e-01, 9.3138e-01,\n",
      "         1.0000e+00, 9.9888e-01, 1.4414e-05, 2.0472e-12],\n",
      "        [9.9981e-01, 9.9839e-01, 1.2853e-10, 6.2354e-02, 1.0000e+00, 9.9464e-02,\n",
      "         1.0000e+00, 9.9975e-01, 1.0175e-05, 8.7740e-12],\n",
      "        [9.9570e-01, 1.0000e+00, 1.7844e-05, 1.0000e+00, 9.6277e-01, 9.9289e-01,\n",
      "         1.0000e+00, 1.0000e+00, 5.0917e-05, 1.7508e-13],\n",
      "        [4.3173e-02, 9.9999e-01, 1.0015e-07, 3.1648e-01, 9.7326e-01, 9.0066e-01,\n",
      "         1.0000e+00, 9.9999e-01, 6.0993e-03, 1.9733e-08],\n",
      "        [9.9661e-01, 1.0000e+00, 3.8782e-05, 9.9999e-01, 9.9375e-01, 7.5274e-01,\n",
      "         1.0000e+00, 1.0000e+00, 9.5484e-05, 1.6538e-12],\n",
      "        [2.9798e-04, 1.0000e+00, 4.1795e-07, 4.5712e-05, 9.9830e-01, 1.2023e-02,\n",
      "         1.0000e+00, 6.0883e-01, 2.2095e-07, 8.8681e-10],\n",
      "        [9.9688e-01, 1.0000e+00, 1.5794e-04, 1.0000e+00, 9.7149e-01, 9.9858e-01,\n",
      "         1.0000e+00, 1.0000e+00, 8.6063e-07, 7.3484e-10],\n",
      "        [2.4594e-01, 1.0000e+00, 3.6110e-05, 1.0000e+00, 5.4276e-01, 7.1731e-02,\n",
      "         1.0000e+00, 9.9999e-01, 5.5643e-09, 2.9093e-10],\n",
      "        [7.0144e-02, 1.0000e+00, 8.3009e-06, 9.9975e-01, 2.2982e-01, 8.7833e-01,\n",
      "         1.0000e+00, 9.9999e-01, 2.1871e-05, 1.3997e-09]])\n"
     ]
    }
   ],
   "source": [
    "## Your solution\n",
    "## Solution\n",
    "def activation(x):\n",
    "    return 1/(1+torch.exp(-x))\n",
    "\n",
    "# Flatten the input images\n",
    "inputs = images.view(images.shape[0], -1)\n",
    "\n",
    "# Create parameters\n",
    "w1 = torch.randn(784, 256)\n",
    "b1 = torch.randn(256)\n",
    "\n",
    "w2 = torch.randn(256, 10)\n",
    "b2 = torch.randn(10)\n",
    "\n",
    "h = activation(torch.mm(inputs, w1) + b1)\n",
    "\n",
    "out = activation(torch.mm(h, w2) + b2)\n",
    "\n",
    "print(out)"
   ]
  },
  {
   "cell_type": "markdown",
   "metadata": {},
   "source": [
    "Now we have 10 outputs for our network. We want to pass in an image to our network and get out a probability distribution over the classes that tells us the likely class(es) the image belongs to. Something that looks like this:\n",
    "<img src='assets/image_distribution.png' width=500px>\n",
    "\n",
    "Here we see that the probability for each class is roughly the same. This is representing an untrained network, it hasn't seen any data yet so it just returns a uniform distribution with equal probabilities for each class.\n",
    "\n",
    "To calculate this probability distribution, we often use the [**softmax** function](https://en.wikipedia.org/wiki/Softmax_function). Mathematically this looks like\n",
    "\n",
    "$$\n",
    "\\Large \\sigma(x_i) = \\cfrac{e^{x_i}}{\\sum_k^K{e^{x_k}}}\n",
    "$$\n",
    "\n",
    "What this does is squish each input $x_i$ between 0 and 1 and normalizes the values to give you a proper probability distribution where the probabilites sum up to one.\n",
    "\n",
    "> **Exercise:** Implement a function `softmax` that performs the softmax calculation and returns probability distributions for each example in the batch. Note that you'll need to pay attention to the shapes when doing this. If you have a tensor `a` with shape `(64, 10)` and a tensor `b` with shape `(64,)`, doing `a/b` will give you an error because PyTorch will try to do the division across the columns (called broadcasting) but you'll get a size mismatch. The way to think about this is for each of the 64 examples, you only want to divide by one value, the sum in the denominator. So you need `b` to have a shape of `(64, 1)`. This way PyTorch will divide the 10 values in each row of `a` by the one value in each row of `b`. Pay attention to how you take the sum as well. You'll need to define the `dim` keyword in `torch.sum`. Setting `dim=0` takes the sum across the rows while `dim=1` takes the sum across the columns."
   ]
  },
  {
   "cell_type": "code",
   "execution_count": 7,
   "metadata": {},
   "outputs": [
    {
     "name": "stdout",
     "output_type": "stream",
     "text": [
      "torch.Size([64, 10])\n",
      "tensor([1.0000, 1.0000, 1.0000, 1.0000, 1.0000, 1.0000, 1.0000, 1.0000, 1.0000,\n",
      "        1.0000, 1.0000, 1.0000, 1.0000, 1.0000, 1.0000, 1.0000, 1.0000, 1.0000,\n",
      "        1.0000, 1.0000, 1.0000, 1.0000, 1.0000, 1.0000, 1.0000, 1.0000, 1.0000,\n",
      "        1.0000, 1.0000, 1.0000, 1.0000, 1.0000, 1.0000, 1.0000, 1.0000, 1.0000,\n",
      "        1.0000, 1.0000, 1.0000, 1.0000, 1.0000, 1.0000, 1.0000, 1.0000, 1.0000,\n",
      "        1.0000, 1.0000, 1.0000, 1.0000, 1.0000, 1.0000, 1.0000, 1.0000, 1.0000,\n",
      "        1.0000, 1.0000, 1.0000, 1.0000, 1.0000, 1.0000, 1.0000, 1.0000, 1.0000,\n",
      "        1.0000])\n"
     ]
    }
   ],
   "source": [
    "def softmax(x):\n",
    "    return torch.exp(x)/torch.sum(torch.exp(x), dim=1).view(-1, 1)\n",
    "\n",
    "# Here, out should be the output of the network in the previous excercise with shape (64,10)\n",
    "probabilities = softmax(out)\n",
    "\n",
    "# Does it have the right shape? Should be (64, 10)\n",
    "print(probabilities.shape)\n",
    "# Does it sum to 1?\n",
    "print(probabilities.sum(dim=1))"
   ]
  },
  {
   "cell_type": "markdown",
   "metadata": {},
   "source": [
    "## Building networks with PyTorch\n",
    "\n",
    "PyTorch provides a module `nn` that makes building networks much simpler. Here I'll show you how to build the same one as above with 784 inputs, 256 hidden units, 10 output units and a softmax output."
   ]
  },
  {
   "cell_type": "code",
   "execution_count": 8,
   "metadata": {},
   "outputs": [],
   "source": [
    "from torch import nn"
   ]
  },
  {
   "cell_type": "code",
   "execution_count": 9,
   "metadata": {},
   "outputs": [],
   "source": [
    "class Network(nn.Module):\n",
    "    def __init__(self):\n",
    "        super().__init__()\n",
    "        \n",
    "        # Inputs to hidden layer linear transformation\n",
    "        self.hidden = nn.Linear(784, 256)\n",
    "        # Output layer, 10 units - one for each digit\n",
    "        self.output = nn.Linear(256, 10)\n",
    "        \n",
    "        # Define sigmoid activation and softmax output \n",
    "        self.sigmoid = nn.Sigmoid()\n",
    "        self.softmax = nn.Softmax(dim=1)\n",
    "        \n",
    "    def forward(self, x):\n",
    "        # Pass the input tensor through each of our operations\n",
    "        x = self.hidden(x)\n",
    "        x = self.sigmoid(x)\n",
    "        x = self.output(x)\n",
    "        x = self.softmax(x)\n",
    "        \n",
    "        return x"
   ]
  },
  {
   "cell_type": "markdown",
   "metadata": {},
   "source": [
    "Let's go through this bit by bit.\n",
    "\n",
    "```python\n",
    "class Network(nn.Module):\n",
    "```\n",
    "\n",
    "Here we're inheriting from `nn.Module`. Combined with `super().__init__()` this creates a class that tracks the architecture and provides a lot of useful methods and attributes. It is mandatory to inherit from `nn.Module` when you're creating a class for your network. The name of the class itself can be anything.\n",
    "\n",
    "```python\n",
    "self.hidden = nn.Linear(784, 256)\n",
    "```\n",
    "\n",
    "This line creates a module for a linear transformation, $x\\mathbf{W} + b$, with 784 inputs and 256 outputs and assigns it to `self.hidden`. The module automatically creates the weight and bias tensors which we'll use in the `forward` method. You can access the weight and bias tensors once the network (`net`) is created with `net.hidden.weight` and `net.hidden.bias`.\n",
    "\n",
    "```python\n",
    "self.output = nn.Linear(256, 10)\n",
    "```\n",
    "\n",
    "Similarly, this creates another linear transformation with 256 inputs and 10 outputs.\n",
    "\n",
    "```python\n",
    "self.sigmoid = nn.Sigmoid()\n",
    "self.softmax = nn.Softmax(dim=1)\n",
    "```\n",
    "\n",
    "Here I defined operations for the sigmoid activation and softmax output. Setting `dim=1` in `nn.Softmax(dim=1)` calculates softmax across the columns.\n",
    "\n",
    "```python\n",
    "def forward(self, x):\n",
    "```\n",
    "\n",
    "PyTorch networks created with `nn.Module` must have a `forward` method defined. It takes in a tensor `x` and passes it through the operations you defined in the `__init__` method.\n",
    "\n",
    "```python\n",
    "x = self.hidden(x)\n",
    "x = self.sigmoid(x)\n",
    "x = self.output(x)\n",
    "x = self.softmax(x)\n",
    "```\n",
    "\n",
    "Here the input tensor `x` is passed through each operation and reassigned to `x`. We can see that the input tensor goes through the hidden layer, then a sigmoid function, then the output layer, and finally the softmax function. It doesn't matter what you name the variables here, as long as the inputs and outputs of the operations match the network architecture you want to build. The order in which you define things in the `__init__` method doesn't matter, but you'll need to sequence the operations correctly in the `forward` method.\n",
    "\n",
    "Now we can create a `Network` object."
   ]
  },
  {
   "cell_type": "code",
   "execution_count": 10,
   "metadata": {},
   "outputs": [
    {
     "data": {
      "text/plain": [
       "Network(\n",
       "  (hidden): Linear(in_features=784, out_features=256, bias=True)\n",
       "  (output): Linear(in_features=256, out_features=10, bias=True)\n",
       "  (sigmoid): Sigmoid()\n",
       "  (softmax): Softmax(dim=1)\n",
       ")"
      ]
     },
     "execution_count": 10,
     "metadata": {},
     "output_type": "execute_result"
    }
   ],
   "source": [
    "# Create the network and look at it's text representation\n",
    "model = Network()\n",
    "model"
   ]
  },
  {
   "cell_type": "markdown",
   "metadata": {},
   "source": [
    "You can define the network somewhat more concisely and clearly using the `torch.nn.functional` module. This is the most common way you'll see networks defined as many operations are simple element-wise functions. We normally import this module as `F`, `import torch.nn.functional as F`."
   ]
  },
  {
   "cell_type": "code",
   "execution_count": 11,
   "metadata": {},
   "outputs": [],
   "source": [
    "import torch.nn.functional as F\n",
    "\n",
    "class Network(nn.Module):\n",
    "    def __init__(self):\n",
    "        super().__init__()\n",
    "        # Inputs to hidden layer linear transformation\n",
    "        self.hidden = nn.Linear(784, 256)\n",
    "        # Output layer, 10 units - one for each digit\n",
    "        self.output = nn.Linear(256, 10)\n",
    "        \n",
    "    def forward(self, x):\n",
    "        # Hidden layer with sigmoid activation\n",
    "        x = F.sigmoid(self.hidden(x))\n",
    "        # Output layer with softmax activation\n",
    "        x = F.softmax(self.output(x), dim=1)\n",
    "        \n",
    "        return x"
   ]
  },
  {
   "cell_type": "markdown",
   "metadata": {},
   "source": [
    "### Activation functions\n",
    "\n",
    "So far we've only been looking at the sigmoid activation function, but in general any function can be used as an activation function. The only requirement is that for a network to approximate a non-linear function, the activation functions must be non-linear. Here are a few more examples of common activation functions: Tanh (hyperbolic tangent), and ReLU (rectified linear unit).\n",
    "\n",
    "<img src=\"assets/activation.png\" width=700px>\n",
    "\n",
    "In practice, the ReLU function is used almost exclusively as the activation function for hidden layers."
   ]
  },
  {
   "cell_type": "markdown",
   "metadata": {},
   "source": [
    "### Your Turn to Build a Network\n",
    "\n",
    "<img src=\"assets/mlp_mnist.png\" width=600px>\n",
    "\n",
    "> **Exercise:** Create a network with 784 input units, a hidden layer with 128 units and a ReLU activation, then a hidden layer with 64 units and a ReLU activation, and finally an output layer with a softmax activation as shown above. You can use a ReLU activation with the `nn.ReLU` module or `F.relu` function.\n",
    "\n",
    "It's good practice to name your layers by their type of network, for instance 'fc' to represent a fully-connected layer. As you code your solution, use `fc1`, `fc2`, and `fc3` as your layer names."
   ]
  },
  {
   "cell_type": "code",
   "execution_count": 21,
   "metadata": {
    "scrolled": true
   },
   "outputs": [
    {
     "name": "stdout",
     "output_type": "stream",
     "text": [
      "Network1(\n",
      "  (hidden): Linear(in_features=784, out_features=128, bias=True)\n",
      "  (hidden1): Linear(in_features=128, out_features=64, bias=True)\n",
      "  (output): Linear(in_features=64, out_features=10, bias=True)\n",
      ")\n"
     ]
    }
   ],
   "source": [
    "## Your solution here\n",
    "import torch.nn.functional as F\n",
    "\n",
    "class Network1(nn.Module):\n",
    "    def __init__(self):\n",
    "        super().__init__()\n",
    "        # Inputs to hidden layer linear transformation\n",
    "        self.hidden = nn.Linear(784, 128)\n",
    "        self.hidden1 = nn.Linear(128, 64)\n",
    "        # Output layer, 10 units - one for each digit\n",
    "        self.output = nn.Linear(64, 10)\n",
    "        \n",
    "    def forward(self, x):\n",
    "        # Hidden layer with sigmoid activation\n",
    "        x = F.relu(self.hidden(x))\n",
    "        x = F.relu(self.hidden1(x))\n",
    "        # Output layer with softmax activation\n",
    "        x = F.softmax(self.output(x), dim=1)\n",
    "        \n",
    "        return x\n",
    "\n",
    "model = Network1()\n",
    "print(model)"
   ]
  },
  {
   "cell_type": "markdown",
   "metadata": {},
   "source": [
    "### Initializing weights and biases\n",
    "\n",
    "The weights and such are automatically initialized for you, but it's possible to customize how they are initialized. The weights and biases are tensors attached to the layer you defined, you can get them with `model.fc1.weight` for instance."
   ]
  },
  {
   "cell_type": "code",
   "execution_count": 22,
   "metadata": {},
   "outputs": [
    {
     "name": "stdout",
     "output_type": "stream",
     "text": [
      "Parameter containing:\n",
      "tensor([[ 0.0562, -0.0750, -0.0757,  ...,  0.0026, -0.0077,  0.0040],\n",
      "        [ 0.0481,  0.0461, -0.0774,  ...,  0.0606,  0.0822,  0.0776],\n",
      "        [ 0.0544,  0.0146,  0.0188,  ..., -0.0443, -0.0391,  0.0305],\n",
      "        ...,\n",
      "        [ 0.0364,  0.0212, -0.0776,  ...,  0.0560, -0.0724, -0.0010],\n",
      "        [ 0.0075, -0.0558, -0.0345,  ...,  0.0789,  0.0741, -0.0382],\n",
      "        [ 0.0470,  0.0631,  0.0574,  ...,  0.0441,  0.0545,  0.0779]],\n",
      "       requires_grad=True)\n",
      "Parameter containing:\n",
      "tensor([-0.0469,  0.0619,  0.0187,  0.0769,  0.0188,  0.0007, -0.0672,  0.0270,\n",
      "         0.0439,  0.0554,  0.0121,  0.0074, -0.0138, -0.0384, -0.0041,  0.0248,\n",
      "        -0.0141, -0.0801,  0.0077, -0.0172, -0.0025, -0.0484, -0.0075, -0.0713,\n",
      "         0.0291, -0.0110,  0.0177,  0.0721, -0.0634, -0.0271, -0.0402, -0.0594,\n",
      "        -0.0272,  0.0769, -0.0859,  0.0407,  0.0369, -0.0242,  0.0474,  0.0675,\n",
      "         0.0363,  0.0868,  0.0236, -0.0210,  0.0557,  0.0708,  0.0252,  0.0160,\n",
      "         0.0723,  0.0183,  0.0363, -0.0539, -0.0468,  0.0869, -0.0459,  0.0311,\n",
      "         0.0622,  0.0170, -0.0754, -0.0767,  0.0317, -0.0623, -0.0022, -0.0120],\n",
      "       requires_grad=True)\n"
     ]
    }
   ],
   "source": [
    "print(model.hidden1.weight)\n",
    "print(model.hidden1.bias)"
   ]
  },
  {
   "cell_type": "markdown",
   "metadata": {},
   "source": [
    "For custom initialization, we want to modify these tensors in place. These are actually autograd *Variables*, so we need to get back the actual tensors with `model.fc1.weight.data`. Once we have the tensors, we can fill them with zeros (for biases) or random normal values."
   ]
  },
  {
   "cell_type": "code",
   "execution_count": 23,
   "metadata": {},
   "outputs": [
    {
     "data": {
      "text/plain": [
       "tensor([0., 0., 0., 0., 0., 0., 0., 0., 0., 0., 0., 0., 0., 0., 0., 0., 0., 0., 0., 0., 0., 0., 0., 0.,\n",
       "        0., 0., 0., 0., 0., 0., 0., 0., 0., 0., 0., 0., 0., 0., 0., 0., 0., 0., 0., 0., 0., 0., 0., 0.,\n",
       "        0., 0., 0., 0., 0., 0., 0., 0., 0., 0., 0., 0., 0., 0., 0., 0.])"
      ]
     },
     "execution_count": 23,
     "metadata": {},
     "output_type": "execute_result"
    }
   ],
   "source": [
    "# Set biases to all zeros\n",
    "model.hidden1.bias.data.fill_(0)"
   ]
  },
  {
   "cell_type": "code",
   "execution_count": 24,
   "metadata": {},
   "outputs": [
    {
     "data": {
      "text/plain": [
       "tensor([[-0.0060, -0.0010, -0.0045,  ..., -0.0024, -0.0067,  0.0052],\n",
       "        [-0.0098,  0.0170,  0.0123,  ..., -0.0058,  0.0070, -0.0090],\n",
       "        [ 0.0105,  0.0043, -0.0031,  ..., -0.0102, -0.0201, -0.0037],\n",
       "        ...,\n",
       "        [ 0.0023,  0.0060,  0.0009,  ...,  0.0073,  0.0199, -0.0073],\n",
       "        [ 0.0078, -0.0090, -0.0160,  ..., -0.0122, -0.0072,  0.0173],\n",
       "        [-0.0106,  0.0045, -0.0130,  ...,  0.0068, -0.0198,  0.0146]])"
      ]
     },
     "execution_count": 24,
     "metadata": {},
     "output_type": "execute_result"
    }
   ],
   "source": [
    "# sample from random normal with standard dev = 0.01\n",
    "model.hidden1.weight.data.normal_(std=0.01)"
   ]
  },
  {
   "cell_type": "markdown",
   "metadata": {},
   "source": [
    "### Forward pass\n",
    "\n",
    "Now that we have a network, let's see what happens when we pass in an image."
   ]
  },
  {
   "cell_type": "code",
   "execution_count": 26,
   "metadata": {},
   "outputs": [
    {
     "data": {
      "image/png": "[encoded data removed]",
      "text/plain": [
       "<Figure size 600x900 with 2 Axes>"
      ]
     },
     "metadata": {
      "image/png": {
       "height": 327,
       "width": 589
      }
     },
     "output_type": "display_data"
    }
   ],
   "source": [
    "# Grab some data \n",
    "dataiter = iter(trainloader)\n",
    "images, labels = next(dataiter)\n",
    "\n",
    "# Resize images into a 1D vector, new shape is (batch size, color channels, image pixels) \n",
    "images.resize_(64, 1, 784)\n",
    "# or images.resize_(images.shape[0], 1, 784) to automatically get batch size\n",
    "\n",
    "# Forward pass through the network\n",
    "img_idx = 0\n",
    "ps = model.forward(images[img_idx,:])\n",
    "\n",
    "img = images[img_idx]\n",
    "helper.view_classify(img.view(1, 28, 28), ps)"
   ]
  },
  {
   "cell_type": "markdown",
   "metadata": {},
   "source": [
    "As you can see above, our network has basically no idea what this digit is. It's because we haven't trained it yet, all the weights are random!\n",
    "\n",
    "### Using `nn.Sequential`\n",
    "\n",
    "PyTorch provides a convenient way to build networks like this where a tensor is passed sequentially through operations, `nn.Sequential` ([documentation](https://pytorch.org/docs/master/nn.html#torch.nn.Sequential)). Using this to build the equivalent network:"
   ]
  },
  {
   "cell_type": "code",
   "execution_count": 27,
   "metadata": {},
   "outputs": [
    {
     "name": "stdout",
     "output_type": "stream",
     "text": [
      "Sequential(\n",
      "  (0): Linear(in_features=784, out_features=128, bias=True)\n",
      "  (1): ReLU()\n",
      "  (2): Linear(in_features=128, out_features=64, bias=True)\n",
      "  (3): ReLU()\n",
      "  (4): Linear(in_features=64, out_features=10, bias=True)\n",
      "  (5): Softmax(dim=1)\n",
      ")\n"
     ]
    },
    {
     "data": {
      "image/png": "[encoded data removed]",
      "text/plain": [
       "<Figure size 600x900 with 2 Axes>"
      ]
     },
     "metadata": {
      "image/png": {
       "height": 327,
       "width": 589
      }
     },
     "output_type": "display_data"
    }
   ],
   "source": [
    "# Hyperparameters for our network\n",
    "input_size = 784\n",
    "hidden_sizes = [128, 64]\n",
    "output_size = 10\n",
    "\n",
    "# Build a feed-forward network\n",
    "model = nn.Sequential(nn.Linear(input_size, hidden_sizes[0]),\n",
    "                      nn.ReLU(),\n",
    "                      nn.Linear(hidden_sizes[0], hidden_sizes[1]),\n",
    "                      nn.ReLU(),\n",
    "                      nn.Linear(hidden_sizes[1], output_size),\n",
    "                      nn.Softmax(dim=1))\n",
    "print(model)\n",
    "\n",
    "# Forward pass through the network and display output\n",
    "images, labels = next(iter(trainloader))\n",
    "images.resize_(images.shape[0], 1, 784)\n",
    "ps = model.forward(images[0,:])\n",
    "helper.view_classify(images[0].view(1, 28, 28), ps)"
   ]
  },
  {
   "cell_type": "markdown",
   "metadata": {},
   "source": [
    "Here our model is the same as before: 784 input units, a hidden layer with 128 units, ReLU activation, 64 unit hidden layer, another ReLU, then the output layer with 10 units, and the softmax output.\n",
    "\n",
    "The operations are available by passing in the appropriate index. For example, if you want to get first Linear operation and look at the weights, you'd use `model[0]`."
   ]
  },
  {
   "cell_type": "code",
   "execution_count": 28,
   "metadata": {},
   "outputs": [
    {
     "name": "stdout",
     "output_type": "stream",
     "text": [
      "Linear(in_features=784, out_features=128, bias=True)\n"
     ]
    },
    {
     "data": {
      "text/plain": [
       "Parameter containing:\n",
       "tensor([[-0.0290, -0.0343,  0.0101,  ...,  0.0312, -0.0068,  0.0202],\n",
       "        [ 0.0184,  0.0356,  0.0243,  ...,  0.0091, -0.0061, -0.0253],\n",
       "        [ 0.0089,  0.0310, -0.0063,  ..., -0.0037, -0.0122,  0.0181],\n",
       "        ...,\n",
       "        [ 0.0151, -0.0153,  0.0342,  ...,  0.0225, -0.0300, -0.0296],\n",
       "        [-0.0302, -0.0247, -0.0161,  ...,  0.0305, -0.0004, -0.0020],\n",
       "        [-0.0199, -0.0021,  0.0234,  ..., -0.0034,  0.0059,  0.0294]],\n",
       "       requires_grad=True)"
      ]
     },
     "execution_count": 28,
     "metadata": {},
     "output_type": "execute_result"
    }
   ],
   "source": [
    "print(model[0])\n",
    "model[0].weight"
   ]
  },
  {
   "cell_type": "markdown",
   "metadata": {},
   "source": [
    "You can also pass in an `OrderedDict` to name the individual layers and operations, instead of using incremental integers. Note that dictionary keys must be unique, so _each operation must have a different name_."
   ]
  },
  {
   "cell_type": "code",
   "execution_count": 29,
   "metadata": {},
   "outputs": [
    {
     "data": {
      "text/plain": [
       "Sequential(\n",
       "  (fc1): Linear(in_features=784, out_features=128, bias=True)\n",
       "  (relu1): ReLU()\n",
       "  (fc2): Linear(in_features=128, out_features=64, bias=True)\n",
       "  (relu2): ReLU()\n",
       "  (output): Linear(in_features=64, out_features=10, bias=True)\n",
       "  (softmax): Softmax(dim=1)\n",
       ")"
      ]
     },
     "execution_count": 29,
     "metadata": {},
     "output_type": "execute_result"
    }
   ],
   "source": [
    "from collections import OrderedDict\n",
    "model = nn.Sequential(OrderedDict([\n",
    "                      ('fc1', nn.Linear(input_size, hidden_sizes[0])),\n",
    "                      ('relu1', nn.ReLU()),\n",
    "                      ('fc2', nn.Linear(hidden_sizes[0], hidden_sizes[1])),\n",
    "                      ('relu2', nn.ReLU()),\n",
    "                      ('output', nn.Linear(hidden_sizes[1], output_size)),\n",
    "                      ('softmax', nn.Softmax(dim=1))]))\n",
    "model"
   ]
  },
  {
   "cell_type": "markdown",
   "metadata": {},
   "source": [
    "Now you can access layers either by integer or the name"
   ]
  },
  {
   "cell_type": "code",
   "execution_count": 30,
   "metadata": {},
   "outputs": [
    {
     "name": "stdout",
     "output_type": "stream",
     "text": [
      "Linear(in_features=784, out_features=128, bias=True)\n",
      "Linear(in_features=784, out_features=128, bias=True)\n"
     ]
    }
   ],
   "source": [
    "print(model[0])\n",
    "print(model.fc1)"
   ]
  },
  {
   "cell_type": "markdown",
   "metadata": {},
   "source": [
    "In the next notebook, we'll see how we can train a neural network to accuractly predict the numbers appearing in the MNIST images."
   ]
  }
 ],
 "metadata": {
  "kernelspec": {
   "display_name": "Python 3 (ipykernel)",
   "language": "python",
   "name": "python3"
  },
  "language_info": {
   "codemirror_mode": {
    "name": "ipython",
    "version": 3
   },
   "file_extension": ".py",
   "mimetype": "text/x-python",
   "name": "python",
   "nbconvert_exporter": "python",
   "pygments_lexer": "ipython3",
   "version": "3.11.4"
  }
 },
 "nbformat": 4,
 "nbformat_minor": 4
}
